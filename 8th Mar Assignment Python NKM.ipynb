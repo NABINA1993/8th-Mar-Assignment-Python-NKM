{
 "cells": [
  {
   "cell_type": "markdown",
   "id": "7b56f618",
   "metadata": {},
   "source": [
    "Q1. What is the Probability density function?"
   ]
  },
  {
   "cell_type": "markdown",
   "id": "9f084e87",
   "metadata": {},
   "source": [
    "In probability theory, a probability density function (PDF) is a function that describes the relative likelihood for a random variable to take on a given value. The PDF is used to specify the probability of the random variable falling within a particular range of values, as opposed to taking on any one specific value.\n",
    "\n",
    "In other words, the PDF describes the distribution of a continuous random variable, and it can be used to calculate the probability of the random variable falling within a particular interval. The area under the curve of the PDF over a given interval represents the probability of the random variable taking on a value within that interval.\n",
    "\n",
    "The PDF is also used to calculate other statistical measures, such as the mean and variance of the random variable. It is an important concept in probability and statistics, and is used in a wide range of fields, including finance, engineering, and physics."
   ]
  },
  {
   "cell_type": "markdown",
   "id": "4ae131eb",
   "metadata": {},
   "source": [
    "Q2. What are the types of Probability distribution?"
   ]
  },
  {
   "cell_type": "markdown",
   "id": "3c59a32f",
   "metadata": {},
   "source": [
    "There are several types of probability distributions, including:\n",
    "\n",
    "Discrete probability distribution: This type of distribution describes the probability of each possible value of a discrete random variable, which can only take on a finite or countably infinite number of values. Examples include the binomial distribution, Poisson distribution, and geometric distribution.\n",
    "\n",
    "Continuous probability distribution: This type of distribution describes the probability of a continuous random variable taking on a value within a particular interval, and is characterized by a probability density function (PDF). Examples include the normal distribution, exponential distribution, and beta distribution.\n",
    "\n",
    "Multivariate probability distribution: This type of distribution describes the probability of multiple random variables taking on specific values simultaneously. Examples include the joint normal distribution, bivariate Poisson distribution, and multinomial distribution.\n",
    "\n",
    "Empirical probability distribution: This type of distribution is based on observed data and does not have a known analytical form. It is often estimated using histograms, kernel density estimation, or other nonparametric methods.\n",
    "\n",
    "Each type of probability distribution has its own set of characteristics and applications, and understanding the appropriate distribution to use is important for statistical analysis and modeling."
   ]
  },
  {
   "cell_type": "markdown",
   "id": "6ea6de2f",
   "metadata": {},
   "source": [
    "Q3. Write a Python function to calculate the probability density function of a normal distribution with \n",
    "given mean and standard deviation at a given point."
   ]
  },
  {
   "cell_type": "code",
   "execution_count": 2,
   "id": "7f1eb965",
   "metadata": {},
   "outputs": [
    {
     "name": "stdout",
     "output_type": "stream",
     "text": [
      "0.24197072451914337\n"
     ]
    }
   ],
   "source": [
    "import math\n",
    "\n",
    "def normal_pdf(x, mean, std_dev):\n",
    "    \"\"\"\n",
    "    Calculates the probability density function of a normal distribution at a given point.\n",
    "    \n",
    "    Parameters:\n",
    "        x (float): The point at which to calculate the PDF.\n",
    "        mean (float): The mean of the normal distribution.\n",
    "        std_dev (float): The standard deviation of the normal distribution.\n",
    "    \n",
    "    Returns:\n",
    "        float: The PDF value at the given point.\n",
    "    \"\"\"\n",
    "    exponent = -((x - mean) ** 2) / (2 * (std_dev ** 2))\n",
    "    coefficient = 1 / (std_dev * math.sqrt(2 * math.pi))\n",
    "    pdf = coefficient * math.exp(exponent)\n",
    "    return pdf\n",
    "pdf_value = normal_pdf(1, 0, 1)\n",
    "print(pdf_value)\n"
   ]
  },
  {
   "cell_type": "markdown",
   "id": "eacc3fc3",
   "metadata": {},
   "source": [
    "Q4. What are the properties of Binomial distribution? Give two examples of events where binomial \n",
    "distribution can be applied"
   ]
  },
  {
   "cell_type": "markdown",
   "id": "d6bff1df",
   "metadata": {},
   "source": [
    "The properties of the binomial distribution are:\n",
    "\n",
    "The experiment consists of a fixed number of trials, denoted as n.\n",
    "Each trial can result in one of two possible outcomes, often labeled as success or failure.\n",
    "The probability of success, denoted as p, is constant across all trials.\n",
    "The trials are independent, meaning the outcome of one trial does not affect the outcome of any other trial.\n",
    "The random variable of interest is the number of successes in n trials, denoted as X.\n",
    "Two examples of events where the binomial distribution can be applied are:\n",
    "\n",
    "Flipping a coin: Suppose you flip a fair coin 10 times and want to know the probability of getting exactly 5 heads. Each flip of the coin has two possible outcomes (heads or tails), the probability of getting heads is 0.5 for each flip, the flips are independent of each other, and the number of heads in 10 flips is a random variable of interest.\n",
    "\n",
    "Manufacturing defects: A manufacturer produces a large number of items, and each item has a probability of 0.1 of being defective. If 50 items are randomly selected, what is the probability that exactly 5 of them are defective? Each item can be classified as either defective or non-defective, the probability of a defective item is constant across all items, the items are independent of each other, and the number of defective items in 50 randomly selected items is a random variable of interest."
   ]
  },
  {
   "cell_type": "code",
   "execution_count": 3,
   "id": "2a822b4a",
   "metadata": {},
   "outputs": [
    {
     "name": "stdout",
     "output_type": "stream",
     "text": [
      "The probability of getting exactly 5 successes is: 0.24609375\n"
     ]
    }
   ],
   "source": [
    "import scipy.stats as stats\n",
    "\n",
    "# Define parameters\n",
    "n = 10  # number of trials\n",
    "p = 0.5  # probability of success\n",
    "\n",
    "# Define the random variable\n",
    "X = stats.binom(n, p)\n",
    "\n",
    "# Calculate pmf at a given point\n",
    "x = 5  # number of successes\n",
    "pmf = X.pmf(x)\n",
    "\n",
    "print(\"The probability of getting exactly 5 successes is:\", pmf)\n"
   ]
  },
  {
   "cell_type": "markdown",
   "id": "acd5538b",
   "metadata": {},
   "source": [
    "Q5. Generate a random sample of size 1000 from a binomial distribution with probability of success 0.4 \n",
    "and plot a histogram of the results using matplotlib"
   ]
  },
  {
   "cell_type": "code",
   "execution_count": 4,
   "id": "498aeb9f",
   "metadata": {},
   "outputs": [
    {
     "data": {
      "image/png": "[encoded data removed]",
      "text/plain": [
       "<Figure size 432x288 with 1 Axes>"
      ]
     },
     "metadata": {
      "needs_background": "light"
     },
     "output_type": "display_data"
    }
   ],
   "source": [
    "import numpy as np\n",
    "import matplotlib.pyplot as plt\n",
    "\n",
    "# Define parameters\n",
    "n = 10  # number of trials\n",
    "p = 0.4  # probability of success\n",
    "size = 1000  # sample size\n",
    "\n",
    "# Generate random sample\n",
    "sample = np.random.binomial(n, p, size)\n",
    "\n",
    "# Plot histogram\n",
    "plt.hist(sample, bins=range(n+2), align='left', rwidth=0.8)\n",
    "plt.xlabel('Number of successes')\n",
    "plt.ylabel('Frequency')\n",
    "plt.title('Binomial Distribution Histogram')\n",
    "plt.show()\n"
   ]
  },
  {
   "cell_type": "markdown",
   "id": "c40a9e98",
   "metadata": {},
   "source": [
    "Q6. Write a Python function to calculate the cumulative distribution function of a Poisson distribution \n",
    "with given mean at a given point."
   ]
  },
  {
   "cell_type": "code",
   "execution_count": 5,
   "id": "af0e9e75",
   "metadata": {},
   "outputs": [
    {
     "name": "stdout",
     "output_type": "stream",
     "text": [
      "0.7575761331330659\n"
     ]
    }
   ],
   "source": [
    "import math\n",
    "\n",
    "def poisson_cdf(mu, k):\n",
    "    cdf = 0\n",
    "    for i in range(k+1):\n",
    "        cdf += math.exp(-mu) * mu**i / math.factorial(i)\n",
    "    return cdf\n",
    "# Calculate the Poisson cumulative distribution function at k=3 with mean mu=2.5\n",
    "result = poisson_cdf(2.5, 3)\n",
    "print(result)\n"
   ]
  },
  {
   "cell_type": "markdown",
   "id": "296fec2d",
   "metadata": {},
   "source": [
    "Q7. How Binomial distribution different from Poisson distribution?"
   ]
  },
  {
   "cell_type": "markdown",
   "id": "eba5de83",
   "metadata": {},
   "source": [
    "Binomial and Poisson distributions are both discrete probability distributions, but they differ in the type of events they describe and the parameters that define them.\n",
    "\n",
    "The Binomial distribution is used to model the probability of a certain number of successes in a fixed number of independent trials, where the probability of success is constant for each trial. The two parameters of a binomial distribution are the number of trials (n) and the probability of success in each trial (p).\n",
    "\n",
    "On the other hand, the Poisson distribution is used to model the probability of a certain number of events occurring in a fixed interval of time or space, where the events occur randomly and independently of each other. The parameter of a Poisson distribution is the average number of events per unit of time or space (λ).\n",
    "\n",
    "Therefore, while the Binomial distribution describes the probability of a fixed number of successes in a fixed number of trials, the Poisson distribution describes the probability of a certain number of events occurring randomly and independently over time or space."
   ]
  },
  {
   "cell_type": "markdown",
   "id": "8220b15e",
   "metadata": {},
   "source": [
    "Q8. Generate a random sample of size 1000 from a Poisson distribution with mean 5 and calculate the \n",
    "sample mean and variance."
   ]
  },
  {
   "cell_type": "code",
   "execution_count": 6,
   "id": "3cf49f39",
   "metadata": {},
   "outputs": [
    {
     "name": "stdout",
     "output_type": "stream",
     "text": [
      "Sample mean: 4.919\n",
      "Sample variance: 5.035474474474475\n"
     ]
    }
   ],
   "source": [
    "import numpy as np\n",
    "\n",
    "# set the random seed for reproducibility\n",
    "np.random.seed(123)\n",
    "\n",
    "# generate a random sample of size 1000 from a Poisson distribution with mean 5\n",
    "sample = np.random.poisson(lam=5, size=1000)\n",
    "\n",
    "# calculate the sample mean and variance\n",
    "sample_mean = np.mean(sample)\n",
    "sample_var = np.var(sample, ddof=1)\n",
    "\n",
    "print(\"Sample mean:\", sample_mean)\n",
    "print(\"Sample variance:\", sample_var)\n"
   ]
  },
  {
   "cell_type": "markdown",
   "id": "69a9ecb9",
   "metadata": {},
   "source": [
    "Q9. How mean and variance are related in Binomial distribution and Poisson distribution?"
   ]
  },
  {
   "cell_type": "markdown",
   "id": "e2db15b3",
   "metadata": {},
   "source": [
    "In a binomial distribution with parameters n and p, the mean is given by np, and the variance is given by np(1-p). In a Poisson distribution with parameter λ, both the mean and variance are equal to λ.\n",
    "\n",
    "If n is large and p is small, then the binomial distribution can be approximated by a Poisson distribution with λ = np. In this case, the mean and variance of the binomial distribution and the Poisson distribution will be approximately equal.\n",
    "\n",
    "So, in summary, mean and variance are related in binomial and Poisson distributions as follows:\n",
    "\n",
    "In a binomial distribution, mean = np and variance = np(1-p)\n",
    "In a Poisson distribution, mean = variance = λ\n",
    "If n is large and p is small, then the binomial distribution can be approximated by a Poisson distribution with λ = np, and in this case, the mean and variance of both distributions will be approximately equal"
   ]
  },
  {
   "cell_type": "markdown",
   "id": "7b94d86b",
   "metadata": {},
   "source": [
    "Q10. In normal distribution with respect to mean position, where does the least frequent data appear?"
   ]
  },
  {
   "cell_type": "markdown",
   "id": "8a346323",
   "metadata": {},
   "source": [
    "In normal distribution, the least frequent data appears in the tails or the extreme ends of the distribution, furthest away from the mean. This is because normal distribution is symmetric and the probability density function is highest at the mean and decreases as we move away from it towards the tails."
   ]
  },
  {
   "cell_type": "code",
   "execution_count": null,
   "id": "72f7ae00",
   "metadata": {},
   "outputs": [],
   "source": []
  }
 ],
 "metadata": {
  "kernelspec": {
   "display_name": "Python 3 (ipykernel)",
   "language": "python",
   "name": "python3"
  },
  "language_info": {
   "codemirror_mode": {
    "name": "ipython",
    "version": 3
   },
   "file_extension": ".py",
   "mimetype": "text/x-python",
   "name": "python",
   "nbconvert_exporter": "python",
   "pygments_lexer": "ipython3",
   "version": "3.10.5"
  }
 },
 "nbformat": 4,
 "nbformat_minor": 5
}
